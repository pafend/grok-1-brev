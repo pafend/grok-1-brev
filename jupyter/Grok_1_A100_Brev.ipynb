{
  "cells": [
    {
      "cell_type": "markdown",
      "metadata": {
        "id": "ALT8j30TZZYF"
      },
      "source": [
        "Thanks to xAi for this amazing model!\n",
        "\n",
        "This was the setup for a A100 instance with python 3.10 and Cuda 12.0.1.\n",
        "\n",
        "This is a working solution as of 06.04.2024."
      ]
    },
    {
      "cell_type": "code",
      "execution_count": null,
      "metadata": {
        "id": "M0BnTOy7X3st"
      },
      "outputs": [],
      "source": [
        "!sudo mkdir ../../../../data\n",
        "!sudo mkdir ../../../../data/tmp"
      ]
    },
    {
      "cell_type": "code",
      "execution_count": null,
      "metadata": {
        "id": "-31oK9upX62U"
      },
      "outputs": [],
      "source": [
        "!sudo chmod 1777 ../../../../data/tmp"
      ]
    },
    {
      "cell_type": "code",
      "execution_count": null,
      "metadata": {
        "id": "iwBH0fVTYUXf"
      },
      "outputs": [],
      "source": [
        "!git clone https://github.com/pafend/grok-1-brev"
      ]
    },
    {
      "cell_type": "code",
      "execution_count": null,
      "metadata": {},
      "outputs": [],
      "source": [
        "!pip install --upgrade pip"
      ]
    },
    {
      "cell_type": "code",
      "execution_count": null,
      "metadata": {
        "id": "AA3J4y1zYbV7"
      },
      "outputs": [],
      "source": [
        "!pip install -r ./grok-1-brev/requirements.txt"
      ]
    },
    {
      "cell_type": "code",
      "execution_count": null,
      "metadata": {},
      "outputs": [],
      "source": [
        "!pip install --upgrade \"jax[cuda12_pip]\" -f https://storage.googleapis.com/jax-releases/jax_cuda_releases.html"
      ]
    },
    {
      "cell_type": "code",
      "execution_count": null,
      "metadata": {
        "id": "gSiA5jAdY906"
      },
      "outputs": [],
      "source": [
        "!pip install huggingface_hub\\[hf_transfer\\]"
      ]
    },
    {
      "cell_type": "markdown",
      "metadata": {
        "id": "IivYHv9BYrg6"
      },
      "source": [
        "WARNING! The next step could flood the jupyter book and kill the kernal, it's better to run it in a shell as a standalone command. Here for reference purposes"
      ]
    },
    {
      "cell_type": "code",
      "execution_count": null,
      "metadata": {
        "id": "QtMrdXhUYkN4"
      },
      "outputs": [],
      "source": [
        "!huggingface-cli download xai-org/grok-1 --repo-type model --include /grok-1-brev/ckpt-0/\\* --local-dir checkpoints --local-dir-use-symlinks False"
      ]
    },
    {
      "cell_type": "markdown",
      "metadata": {
        "id": "7OintcowZsw1"
      },
      "source": [
        "Please change Line 66 if you want to have it finish another sentence for you."
      ]
    },
    {
      "cell_type": "code",
      "execution_count": null,
      "metadata": {
        "id": "VDllwuZGZML1"
      },
      "outputs": [],
      "source": [
        "!python ./grok-1-brev/run.py"
      ]
    }
  ],
  "metadata": {
    "colab": {
      "provenance": []
    },
    "kernelspec": {
      "display_name": "Python 3",
      "name": "python3"
    },
    "language_info": {
      "name": "python"
    }
  },
  "nbformat": 4,
  "nbformat_minor": 0
}
